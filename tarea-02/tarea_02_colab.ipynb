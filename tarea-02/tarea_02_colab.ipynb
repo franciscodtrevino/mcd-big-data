{
  "nbformat": 4,
  "nbformat_minor": 0,
  "metadata": {
    "colab": {
      "provenance": []
    },
    "kernelspec": {
      "name": "python3",
      "display_name": "Python 3"
    },
    "language_info": {
      "name": "python"
    }
  },
  "cells": [
    {
      "cell_type": "markdown",
      "source": [
        "Universidad Autónoma de Nuevo León\n",
        "Facultad de Ciencias Fisico Matemáticas\n",
        "Maestría en Ciencia de Datos\n",
        "Alumno: Francisco Treviño\n",
        "Fecha: 2024-10-10\n",
        "\n",
        "Tarea 2 (10 puntos). Operaciones con RDDs\n",
        "* Obtener información de algún origen de datos (propio o de API)\n",
        "* Convertir el origen de datos a RDD con pySpark\n",
        "* Realizar alguna operación en el RDD, como estadísticas descriptivas básicas\n",
        "* Subir la práctica a un repositorio público y etiquetarla claramente"
      ],
      "metadata": {
        "id": "jYrxP5i0gIe4"
      }
    },
    {
      "cell_type": "code",
      "execution_count": 1,
      "metadata": {
        "colab": {
          "base_uri": "https://localhost:8080/"
        },
        "id": "XPCFOcwQp_r2",
        "outputId": "dc4e0cb5-18e9-4c86-a0fa-9625f03817d1"
      },
      "outputs": [
        {
          "output_type": "stream",
          "name": "stdout",
          "text": [
            "\u001b[33m\r0% [Working]\u001b[0m\r            \rGet:1 https://cloud.r-project.org/bin/linux/ubuntu jammy-cran40/ InRelease [3,626 B]\n",
            "Get:2 https://developer.download.nvidia.com/compute/cuda/repos/ubuntu2204/x86_64  InRelease [1,581 B]\n",
            "Get:3 https://developer.download.nvidia.com/compute/cuda/repos/ubuntu2204/x86_64  Packages [1,031 kB]\n",
            "Hit:4 http://archive.ubuntu.com/ubuntu jammy InRelease\n",
            "Get:5 http://security.ubuntu.com/ubuntu jammy-security InRelease [129 kB]\n",
            "Get:6 http://archive.ubuntu.com/ubuntu jammy-updates InRelease [128 kB]\n",
            "Ign:7 https://r2u.stat.illinois.edu/ubuntu jammy InRelease\n",
            "Get:8 https://r2u.stat.illinois.edu/ubuntu jammy Release [5,713 B]\n",
            "Get:9 https://r2u.stat.illinois.edu/ubuntu jammy Release.gpg [793 B]\n",
            "Hit:10 https://ppa.launchpadcontent.net/deadsnakes/ppa/ubuntu jammy InRelease\n",
            "Hit:11 https://ppa.launchpadcontent.net/graphics-drivers/ppa/ubuntu jammy InRelease\n",
            "Hit:12 http://archive.ubuntu.com/ubuntu jammy-backports InRelease\n",
            "Hit:13 https://ppa.launchpadcontent.net/ubuntugis/ppa/ubuntu jammy InRelease\n",
            "Get:14 https://r2u.stat.illinois.edu/ubuntu jammy/main all Packages [8,379 kB]\n",
            "Get:15 http://security.ubuntu.com/ubuntu jammy-security/universe amd64 Packages [1,160 kB]\n",
            "Get:16 http://security.ubuntu.com/ubuntu jammy-security/restricted amd64 Packages [3,122 kB]\n",
            "Get:17 http://archive.ubuntu.com/ubuntu jammy-updates/main amd64 Packages [2,602 kB]\n",
            "Get:18 http://security.ubuntu.com/ubuntu jammy-security/main amd64 Packages [2,325 kB]\n",
            "Get:19 https://r2u.stat.illinois.edu/ubuntu jammy/main amd64 Packages [2,592 kB]\n",
            "Get:20 http://archive.ubuntu.com/ubuntu jammy-updates/universe amd64 Packages [1,449 kB]\n",
            "Get:21 http://archive.ubuntu.com/ubuntu jammy-updates/restricted amd64 Packages [3,200 kB]\n",
            "Fetched 26.1 MB in 9s (2,990 kB/s)\n",
            "Reading package lists... Done\n",
            "Building dependency tree... Done\n",
            "Reading state information... Done\n",
            "49 packages can be upgraded. Run 'apt list --upgradable' to see them.\n",
            "\u001b[1;33mW: \u001b[0mSkipping acquire of configured file 'main/source/Sources' as repository 'https://r2u.stat.illinois.edu/ubuntu jammy InRelease' does not seem to provide it (sources.list entry misspelt?)\u001b[0m\n",
            "Collecting pyspark\n",
            "  Downloading pyspark-3.5.3.tar.gz (317.3 MB)\n",
            "\u001b[2K     \u001b[90m━━━━━━━━━━━━━━━━━━━━━━━━━━━━━━━━━━━━━━━━\u001b[0m \u001b[32m317.3/317.3 MB\u001b[0m \u001b[31m4.4 MB/s\u001b[0m eta \u001b[36m0:00:00\u001b[0m\n",
            "\u001b[?25h  Preparing metadata (setup.py) ... \u001b[?25l\u001b[?25hdone\n",
            "Requirement already satisfied: py4j==0.10.9.7 in /usr/local/lib/python3.10/dist-packages (from pyspark) (0.10.9.7)\n",
            "Building wheels for collected packages: pyspark\n",
            "  Building wheel for pyspark (setup.py) ... \u001b[?25l\u001b[?25hdone\n",
            "  Created wheel for pyspark: filename=pyspark-3.5.3-py2.py3-none-any.whl size=317840625 sha256=18dbeaf0a91798e32ae1a945fa7393bed77282c29cfa1f7c1517e1f4273075e1\n",
            "  Stored in directory: /root/.cache/pip/wheels/1b/3a/92/28b93e2fbfdbb07509ca4d6f50c5e407f48dce4ddbda69a4ab\n",
            "Successfully built pyspark\n",
            "Installing collected packages: pyspark\n",
            "Successfully installed pyspark-3.5.3\n",
            "Requirement already satisfied: py4j in /usr/local/lib/python3.10/dist-packages (0.10.9.7)\n"
          ]
        }
      ],
      "source": [
        "!sudo apt update\n",
        "!apt-get install openjdk-8-jdk-headless -qq > /dev/null\n",
        "#Check this site for the latest download link https://www.apache.org/dyn/closer.lua/spark/spark-3.2.1/spark-3.2.1-bin-hadoop3.2.tgz\n",
        "!wget -q https://archive.apache.org/dist/spark/spark-3.2.1/spark-3.2.1-bin-hadoop3.2.tgz\n",
        "!tar xf spark-3.2.1-bin-hadoop3.2.tgz\n",
        "!pip install -q findspark\n",
        "!pip install pyspark\n",
        "!pip install py4j"
      ]
    },
    {
      "cell_type": "code",
      "source": [
        "import os\n",
        "import sys\n",
        "\n",
        "import findspark\n",
        "import pyspark\n",
        "\n",
        "from pyspark.sql import DataFrame, SparkSession\n",
        "from typing import List\n",
        "import pyspark.sql.types as T\n",
        "import pyspark.sql.functions as F"
      ],
      "metadata": {
        "id": "vwG9Lw4YJDst"
      },
      "execution_count": 2,
      "outputs": []
    },
    {
      "cell_type": "code",
      "source": [
        "findspark.init()\n",
        "findspark.find()\n",
        "spark=SparkSession.builder.appName(\"Intraday\").getOrCreate()"
      ],
      "metadata": {
        "id": "654dL-ZEJJqZ"
      },
      "execution_count": 3,
      "outputs": []
    },
    {
      "cell_type": "code",
      "source": [
        "spark"
      ],
      "metadata": {
        "colab": {
          "base_uri": "https://localhost:8080/",
          "height": 219
        },
        "id": "mDeW0fwOqXKn",
        "outputId": "2377e378-837b-452f-ee31-24802ea840f2"
      },
      "execution_count": 4,
      "outputs": [
        {
          "output_type": "execute_result",
          "data": {
            "text/plain": [
              "<pyspark.sql.session.SparkSession at 0x792a2c29f010>"
            ],
            "text/html": [
              "\n",
              "            <div>\n",
              "                <p><b>SparkSession - in-memory</b></p>\n",
              "                \n",
              "        <div>\n",
              "            <p><b>SparkContext</b></p>\n",
              "\n",
              "            <p><a href=\"http://0b37ddcb171c:4040\">Spark UI</a></p>\n",
              "\n",
              "            <dl>\n",
              "              <dt>Version</dt>\n",
              "                <dd><code>v3.5.3</code></dd>\n",
              "              <dt>Master</dt>\n",
              "                <dd><code>local[*]</code></dd>\n",
              "              <dt>AppName</dt>\n",
              "                <dd><code>Intraday</code></dd>\n",
              "            </dl>\n",
              "        </div>\n",
              "        \n",
              "            </div>\n",
              "        "
            ]
          },
          "metadata": {},
          "execution_count": 4
        }
      ]
    },
    {
      "cell_type": "code",
      "source": [
        "# Importar librerías necesarias\n",
        "from pyspark.sql import SparkSession\n",
        "from google.colab import drive\n",
        "\n",
        "# Montar Google Drive\n",
        "drive.mount('/content/drive')"
      ],
      "metadata": {
        "colab": {
          "base_uri": "https://localhost:8080/"
        },
        "id": "xxW7i0qw3LxE",
        "outputId": "3a2421ff-74c3-42b0-d759-5fbbd9a29706"
      },
      "execution_count": 5,
      "outputs": [
        {
          "output_type": "stream",
          "name": "stdout",
          "text": [
            "Mounted at /content/drive\n"
          ]
        }
      ]
    },
    {
      "cell_type": "code",
      "source": [
        "# Inicializar sesión de Spark\n",
        "spark = SparkSession.builder.appName(\"IntradayDataProcessing\").getOrCreate()"
      ],
      "metadata": {
        "id": "EgSxCmyp5ESP"
      },
      "execution_count": 6,
      "outputs": []
    },
    {
      "cell_type": "code",
      "source": [
        "# Paso 1: Lista de archivos CSV en el directorio de Google Drive\n",
        "# Asegúrate de que esta ruta sea la correcta donde se encuentran los archivos en tu Google Drive\n",
        "csv_directory = \"/content/drive/My Drive/UANL/MCD/07 Big Data/\"\n",
        "\n",
        "# Nombres de los archivos CSV\n",
        "csv_file_names = [\"intraday_bmv_a.txt\", \"intraday_bmv_b.txt\", \"intraday_bmv_c.txt\", \"intraday_bmv_d.txt\"]\n",
        "\n",
        "# Lista para almacenar los DataFrames cargados\n",
        "df_list = []\n",
        "\n",
        "# Cargar los archivos CSV desde Google Drive, especificando que están delimitados por TAB\n",
        "for csv_file_name in csv_file_names:\n",
        "    # Leer el archivo CSV desde la ruta de Google Drive\n",
        "    file_path = csv_directory + csv_file_name\n",
        "    df = spark.read.csv(file_path, sep=\"\\t\", header=True, inferSchema=True)\n",
        "    df_list.append(df)"
      ],
      "metadata": {
        "id": "QNcY8oRBqXWU"
      },
      "execution_count": 7,
      "outputs": []
    },
    {
      "cell_type": "code",
      "source": [
        "# Unir todos los DataFrames en uno solo (si es necesario)\n",
        "combined_df = df_list[0]\n",
        "for df in df_list[1:]:\n",
        "    combined_df = combined_df.union(df)\n",
        "\n",
        "# Mostrar una muestra del DataFrame unido\n",
        "combined_df.show(5)"
      ],
      "metadata": {
        "colab": {
          "base_uri": "https://localhost:8080/"
        },
        "id": "-HmC8HdE4zh-",
        "outputId": "d12e9af9-7c9d-492e-d563-8a7c6dea6a39"
      },
      "execution_count": 8,
      "outputs": [
        {
          "output_type": "stream",
          "name": "stdout",
          "text": [
            "+-------------------+------------+-------------+-------------------+------+-----+-------+--------+----------+---------+-----------+-----------------+----------+--------------+-----------------+------------+---+-----+-------+\n",
            "|         trade_time|match_number|instrument_id|          timestamp|volume|price| amount|buyer_id|buyer_name|seller_id|seller_name|auction_indicator|settlement|operation_type|concertation_type|price_setter|lot|chart| symbol|\n",
            "+-------------------+------------+-------------+-------------------+------+-----+-------+--------+----------+---------+-----------+-----------------+----------+--------------+-----------------+------------+---+-----+-------+\n",
            "|2023-01-02 08:30:00|          23|            5|2023-01-02 08:30:00|   102|68.59|6996.18|      61|     SCTIA|       72|        JPM|                -|         -|             -|                -|           1|  1|    1|WALMEX*|\n",
            "|2023-01-02 08:30:00|          28|            5|2023-01-02 08:30:00|   100|68.59| 6859.0|      12|       GBM|       72|        JPM|                -|         -|             -|                -|           1|  1|    1|WALMEX*|\n",
            "|2023-01-02 08:30:00|          30|            5|2023-01-02 08:30:00|   100|68.59| 6859.0|      12|       GBM|       72|        JPM|                -|         -|             -|                -|           1|  1|    1|WALMEX*|\n",
            "|2023-01-02 08:30:32|          58|            5|2023-01-02 08:30:32|   700| 68.6|48020.0|     134|       FMX|      120|       CICB|                -|         -|             -|                -|           1|  1|    1|WALMEX*|\n",
            "|2023-01-02 08:30:34|          59|            5|2023-01-02 08:30:34|   100| 68.6| 6860.0|      72|       JPM|      120|       CICB|                -|         -|             -|                -|           1|  1|    1|WALMEX*|\n",
            "+-------------------+------------+-------------+-------------------+------+-----+-------+--------+----------+---------+-----------+-----------------+----------+--------------+-----------------+------------+---+-----+-------+\n",
            "only showing top 5 rows\n",
            "\n"
          ]
        }
      ]
    },
    {
      "cell_type": "code",
      "source": [
        "combined_df.printSchema()"
      ],
      "metadata": {
        "id": "pp4vWS9kqXav",
        "colab": {
          "base_uri": "https://localhost:8080/"
        },
        "outputId": "694f57ff-9a6c-4db9-d4c6-5aab5abcbafa"
      },
      "execution_count": 9,
      "outputs": [
        {
          "output_type": "stream",
          "name": "stdout",
          "text": [
            "root\n",
            " |-- trade_time: timestamp (nullable = true)\n",
            " |-- match_number: integer (nullable = true)\n",
            " |-- instrument_id: integer (nullable = true)\n",
            " |-- timestamp: timestamp (nullable = true)\n",
            " |-- volume: integer (nullable = true)\n",
            " |-- price: double (nullable = true)\n",
            " |-- amount: double (nullable = true)\n",
            " |-- buyer_id: integer (nullable = true)\n",
            " |-- buyer_name: string (nullable = true)\n",
            " |-- seller_id: integer (nullable = true)\n",
            " |-- seller_name: string (nullable = true)\n",
            " |-- auction_indicator: string (nullable = true)\n",
            " |-- settlement: string (nullable = true)\n",
            " |-- operation_type: string (nullable = true)\n",
            " |-- concertation_type: string (nullable = true)\n",
            " |-- price_setter: integer (nullable = true)\n",
            " |-- lot: integer (nullable = true)\n",
            " |-- chart: integer (nullable = true)\n",
            " |-- symbol: string (nullable = true)\n",
            "\n"
          ]
        }
      ]
    },
    {
      "cell_type": "code",
      "source": [
        "combined_df = combined_df.repartition(10)"
      ],
      "metadata": {
        "id": "lIXMNcDIqXeK"
      },
      "execution_count": 10,
      "outputs": []
    },
    {
      "cell_type": "code",
      "source": [
        "# Convertir el DataFrame a un RDD\n",
        "rdd = combined_df.rdd"
      ],
      "metadata": {
        "id": "xWOLCM-9qXhe"
      },
      "execution_count": 11,
      "outputs": []
    },
    {
      "cell_type": "code",
      "source": [
        "rdd.take(5)  # Muestra los primeros 5 registros del RDD"
      ],
      "metadata": {
        "id": "npmsn7tkqXld",
        "colab": {
          "base_uri": "https://localhost:8080/"
        },
        "outputId": "46caa18a-1da7-4417-a64f-10573230c347"
      },
      "execution_count": 12,
      "outputs": [
        {
          "output_type": "execute_result",
          "data": {
            "text/plain": [
              "[Row(trade_time=datetime.datetime(2023, 2, 23, 10, 20, 34), match_number=6109, instrument_id=5, timestamp=datetime.datetime(2023, 2, 23, 10, 20, 34), volume=100, price=71.3, amount=7130.0, buyer_id=134, buyer_name='FMX', seller_id=12, seller_name='GBM', auction_indicator='-', settlement='-', operation_type='-', concertation_type='-', price_setter=1, lot=1, chart=1, symbol='WALMEX*'),\n",
              " Row(trade_time=datetime.datetime(2023, 1, 6, 11, 22, 2), match_number=6745, instrument_id=5, timestamp=datetime.datetime(2023, 1, 6, 11, 22, 2), volume=750, price=71.8, amount=53850.0, buyer_id=120, buyer_name='CICB', seller_id=17, seller_name='INVEX', auction_indicator='-', settlement='-', operation_type='-', concertation_type='-', price_setter=1, lot=1, chart=1, symbol='WALMEX*'),\n",
              " Row(trade_time=datetime.datetime(2023, 3, 24, 13, 53, 15), match_number=17748, instrument_id=5, timestamp=datetime.datetime(2023, 3, 24, 13, 53, 15), volume=100, price=72.9, amount=7290.0, buyer_id=134, buyer_name='FMX', seller_id=113, seller_name='MS', auction_indicator='-', settlement='-', operation_type='-', concertation_type='-', price_setter=1, lot=1, chart=1, symbol='WALMEX*'),\n",
              " Row(trade_time=datetime.datetime(2023, 3, 22, 7, 39, 55), match_number=243, instrument_id=5, timestamp=datetime.datetime(2023, 3, 22, 7, 39, 55), volume=100, price=72.78, amount=7278.0, buyer_id=113, buyer_name='MS', seller_id=134, seller_name='FMX', auction_indicator='-', settlement='-', operation_type='-', concertation_type='-', price_setter=1, lot=1, chart=1, symbol='WALMEX*'),\n",
              " Row(trade_time=datetime.datetime(2023, 1, 17, 14, 10, 46), match_number=22057, instrument_id=5, timestamp=datetime.datetime(2023, 1, 17, 14, 10, 46), volume=100, price=72.07, amount=7207.0, buyer_id=113, buyer_name='MS', seller_id=72, seller_name='JPM', auction_indicator='-', settlement='-', operation_type='-', concertation_type='-', price_setter=1, lot=1, chart=1, symbol='WALMEX*')]"
            ]
          },
          "metadata": {},
          "execution_count": 12
        }
      ]
    },
    {
      "cell_type": "code",
      "source": [
        "combined_df.describe().show()"
      ],
      "metadata": {
        "id": "piuT6O98qn2I",
        "colab": {
          "base_uri": "https://localhost:8080/"
        },
        "outputId": "752957fa-bbb1-47d7-9e9f-98e1ba5b0862"
      },
      "execution_count": 13,
      "outputs": [
        {
          "output_type": "stream",
          "name": "stdout",
          "text": [
            "+-------+-----------------+-------------+-----------------+-----------------+-----------------+------------------+----------+-----------------+-----------+-----------------+------------------+--------------+-----------------+------------------+------------------+------------------+-------+\n",
            "|summary|     match_number|instrument_id|           volume|            price|           amount|          buyer_id|buyer_name|        seller_id|seller_name|auction_indicator|        settlement|operation_type|concertation_type|      price_setter|               lot|             chart| symbol|\n",
            "+-------+-----------------+-------------+-----------------+-----------------+-----------------+------------------+----------+-----------------+-----------+-----------------+------------------+--------------+-----------------+------------------+------------------+------------------+-------+\n",
            "|  count|          8206976|      8206976|          8206976|          8206976|          8206976|           8206976|   8206555|          8206976|    8206555|          5277250|           8206976|       8206976|          8206976|           8206976|           8206976|           8206976|8206976|\n",
            "|   mean|12122.65758179383|          5.0|775.4876971737215|67.09937394856878|51596.61440487352| 89.64929555051702|      NULL|87.91833618131697|       NULL|             NULL|3.0690460647266153|          NULL|             NULL|0.7724539464962491|0.7724539464962491|0.7724539464962491|   NULL|\n",
            "| stddev|8273.698792035968|          0.0|27987.45770489725|3.837460457378105|1844312.740099807|49.818956415949614|      NULL|50.25820578223899|       NULL|             NULL|0.9976136006147248|          NULL|             NULL|0.4192479796679114|0.4192479796679114|0.4192479796679114|   NULL|\n",
            "|    min|                1|            5|                1|            58.69|            58.85|                 0|       ---|                0|        ---|                -|                 -|             -|                -|                 0|                 0|                 0|WALMEX*|\n",
            "|    max|            48487|            5|         50493146|            76.42|  3.36486324944E9|               149|     VECTO|              149|      VECTO|                P|                 4|             X|                X|                 1|                 1|                 1|WALMEX*|\n",
            "+-------+-----------------+-------------+-----------------+-----------------+-----------------+------------------+----------+-----------------+-----------+-----------------+------------------+--------------+-----------------+------------------+------------------+------------------+-------+\n",
            "\n"
          ]
        }
      ]
    },
    {
      "cell_type": "code",
      "source": [
        "combined_df.filter(combined_df.buyer_id.isin([149, 50])).orderBy(F.asc(\"trade_time\")).limit(100).show()"
      ],
      "metadata": {
        "id": "Av7ke3UDqn6e",
        "colab": {
          "base_uri": "https://localhost:8080/"
        },
        "outputId": "dbafd971-42cc-4aef-88e1-2c4818ef28e2"
      },
      "execution_count": 15,
      "outputs": [
        {
          "output_type": "stream",
          "name": "stdout",
          "text": [
            "+-------------------+------------+-------------+-------------------+------+-----+-------+--------+----------+---------+-----------+-----------------+----------+--------------+-----------------+------------+---+-----+-------+\n",
            "|         trade_time|match_number|instrument_id|          timestamp|volume|price| amount|buyer_id|buyer_name|seller_id|seller_name|auction_indicator|settlement|operation_type|concertation_type|price_setter|lot|chart| symbol|\n",
            "+-------------------+------------+-------------+-------------------+------+-----+-------+--------+----------+---------+-----------+-----------------+----------+--------------+-----------------+------------+---+-----+-------+\n",
            "|2023-04-03 07:30:00|          41|            5|2023-04-03 07:30:00|     1| 72.2|   72.2|     149|       GBM|       14|        FMX|                -|         4|             C|                O|           0|  0|    0|WALMEX*|\n",
            "|2023-04-03 07:30:00|          39|            5|2023-04-03 07:30:00|     4| 72.2|  288.8|     149|       GBM|       14|        FMX|                -|         4|             C|                O|           0|  0|    0|WALMEX*|\n",
            "|2023-04-03 07:30:00|          38|            5|2023-04-03 07:30:00|     1|72.15|  72.15|     149|       GBM|       14|        FMX|                -|         4|             C|                O|           0|  0|    0|WALMEX*|\n",
            "|2023-04-03 07:30:00|          43|            5|2023-04-03 07:30:00|     2| 72.2|  144.4|     149|       GBM|       14|        FMX|                -|         4|             C|                O|           0|  0|    0|WALMEX*|\n",
            "|2023-04-03 07:30:00|          42|            5|2023-04-03 07:30:00|     1| 72.2|   72.2|     149|       GBM|       14|        FMX|                -|         4|             C|                O|           0|  0|    0|WALMEX*|\n",
            "|2023-04-03 07:30:00|          44|            5|2023-04-03 07:30:00|     1| 72.2|   72.2|     149|       GBM|       14|        FMX|                -|         4|             C|                O|           0|  0|    0|WALMEX*|\n",
            "|2023-04-03 07:30:00|          45|            5|2023-04-03 07:30:00|     1| 72.2|   72.2|     149|       GBM|       14|        FMX|                -|         4|             C|                O|           0|  0|    0|WALMEX*|\n",
            "|2023-04-03 07:30:35|          72|            5|2023-04-03 07:30:35|     1|72.13|  72.13|     149|      CICB|      138|        FMX|                -|         4|             C|                O|           0|  0|    0|WALMEX*|\n",
            "|2023-04-03 07:30:35|          73|            5|2023-04-03 07:30:35|     1|72.13|  72.13|     149|       FMX|      149|        FMX|                -|         4|             C|                C|           0|  0|    0|WALMEX*|\n",
            "|2023-04-03 07:37:26|         194|            5|2023-04-03 07:37:26|    58|72.38|4198.04|     149|       FMX|      149|        FMX|                -|         4|             C|                C|           0|  0|    0|WALMEX*|\n",
            "|2023-04-03 07:38:06|         209|            5|2023-04-03 07:38:06|     8|72.47| 579.76|     149|       GBM|       14|        FMX|                -|         4|             C|                O|           0|  0|    0|WALMEX*|\n",
            "|2023-04-03 07:38:39|         235|            5|2023-04-03 07:38:39|    72|72.31|5206.32|     149|       FMX|      149|        FMX|                -|         4|             C|                C|           0|  0|    0|WALMEX*|\n",
            "|2023-04-03 07:41:22|         278|            5|2023-04-03 07:41:22|    20|72.25| 1445.0|     149|       GBM|       14|        FMX|                -|         4|             C|                O|           0|  0|    0|WALMEX*|\n",
            "|2023-04-03 07:44:00|         306|            5|2023-04-03 07:44:00|    40|72.33| 2893.2|     149|     BXMAS|      137|        FMX|                -|         4|             C|                O|           0|  0|    0|WALMEX*|\n",
            "|2023-04-03 07:44:54|         314|            5|2023-04-03 07:44:54|    22|72.38|1592.36|     149|       JPM|      123|        FMX|                -|         4|             C|                O|           0|  0|    0|WALMEX*|\n",
            "|2023-04-03 07:46:13|         325|            5|2023-04-03 07:46:13|    85|72.39|6153.15|     149|       JPM|      123|        FMX|                -|         4|             C|                O|           0|  0|    0|WALMEX*|\n",
            "|2023-04-03 07:46:42|         360|            5|2023-04-03 07:46:42|    72|72.42|5214.24|     149|      CICB|      138|        FMX|                -|         4|             C|                O|           0|  0|    0|WALMEX*|\n",
            "|2023-04-03 07:46:43|         370|            5|2023-04-03 07:46:43|    10| 72.4|  724.0|     149|       FMX|      149|        FMX|                -|         4|             C|                C|           0|  0|    0|WALMEX*|\n",
            "|2023-04-03 07:46:44|         378|            5|2023-04-03 07:46:44|    63|72.33|4556.79|     149|       FMX|      149|        FMX|                -|         4|             C|                C|           0|  0|    0|WALMEX*|\n",
            "|2023-04-03 07:49:21|         461|            5|2023-04-03 07:49:21|    84|72.35| 6077.4|     149|       FMX|      149|        FMX|                -|         4|             C|                C|           0|  0|    0|WALMEX*|\n",
            "+-------------------+------------+-------------+-------------------+------+-----+-------+--------+----------+---------+-----------+-----------------+----------+--------------+-----------------+------------+---+-----+-------+\n",
            "only showing top 20 rows\n",
            "\n"
          ]
        }
      ]
    },
    {
      "cell_type": "code",
      "source": [
        "from pyspark.sql import functions as F\n",
        "\n",
        "# Agrupar por 'buy_participant_id' y la fecha (día) extraída de 'trade_time', luego sumar 'executed_quantity'\n",
        "combined_df.groupBy(F.to_date(\"trade_time\").alias(\"trade_date\"), \"buyer_id\") \\\n",
        "           .sum(\"volume\") \\\n",
        "           .orderBy(F.desc(\"trade_date\")) \\\n",
        "           .show(truncate=False)"
      ],
      "metadata": {
        "id": "lSdXHrZFqn-r",
        "colab": {
          "base_uri": "https://localhost:8080/"
        },
        "outputId": "71c5bfbd-959c-4bcc-d617-c9e7a0f977ad"
      },
      "execution_count": 17,
      "outputs": [
        {
          "output_type": "stream",
          "name": "stdout",
          "text": [
            "+----------+--------+-----------+\n",
            "|trade_date|buyer_id|sum(volume)|\n",
            "+----------+--------+-----------+\n",
            "|2024-09-19|141     |454422     |\n",
            "|2024-09-19|123     |550419     |\n",
            "|2024-09-19|137     |28771      |\n",
            "|2024-09-19|38      |162459     |\n",
            "|2024-09-19|118     |117752     |\n",
            "|2024-09-19|112     |56625      |\n",
            "|2024-09-19|28      |1200000    |\n",
            "|2024-09-19|54      |97218      |\n",
            "|2024-09-19|29      |4285       |\n",
            "|2024-09-19|24      |61580      |\n",
            "|2024-09-19|0       |4879922    |\n",
            "|2024-09-19|136     |670776     |\n",
            "|2024-09-19|138     |215176     |\n",
            "|2024-09-19|113     |859455     |\n",
            "|2024-09-19|14      |1994679    |\n",
            "|2024-09-19|140     |100000     |\n",
            "|2024-09-19|121     |9213       |\n",
            "|2024-09-19|119     |73102      |\n",
            "|2024-09-19|51      |1127249    |\n",
            "|2024-09-18|29      |7088       |\n",
            "+----------+--------+-----------+\n",
            "only showing top 20 rows\n",
            "\n"
          ]
        }
      ]
    },
    {
      "cell_type": "code",
      "source": [
        "# Realizar estadísticas descriptivas básicas\n",
        "price_rdd = rdd.map(lambda row: row[\"price\"])\n",
        "\n",
        "# Filtrar valores nulos\n",
        "price_rdd = price_rdd.filter(lambda x: x is not None)"
      ],
      "metadata": {
        "id": "pmTDTlvqY4ST"
      },
      "execution_count": 18,
      "outputs": []
    },
    {
      "cell_type": "code",
      "source": [
        "# Calcular estadísticas descriptivas básicas\n",
        "count = price_rdd.count()\n",
        "mean = price_rdd.mean()\n",
        "min_value = price_rdd.min()\n",
        "max_value = price_rdd.max()\n",
        "stddev = price_rdd.stdev()\n",
        "\n",
        "# Mostrar los resultados\n",
        "print(f\"Count: {count}\")\n",
        "print(f\"Mean: {mean}\")\n",
        "print(f\"Min: {min_value}\")\n",
        "print(f\"Max: {max_value}\")\n",
        "print(f\"Standard Deviation: {stddev}\")"
      ],
      "metadata": {
        "colab": {
          "base_uri": "https://localhost:8080/"
        },
        "id": "nhyRBD4we60j",
        "outputId": "d2b4e282-be47-4c28-e371-0d483b6e776e"
      },
      "execution_count": 19,
      "outputs": [
        {
          "output_type": "stream",
          "name": "stdout",
          "text": [
            "Count: 8206976\n",
            "Mean: 67.09937394856425\n",
            "Min: 58.69\n",
            "Max: 76.42\n",
            "Standard Deviation: 3.837460223585266\n"
          ]
        }
      ]
    },
    {
      "cell_type": "code",
      "source": [],
      "metadata": {
        "id": "TebLWPgpqoCt"
      },
      "execution_count": null,
      "outputs": []
    },
    {
      "cell_type": "code",
      "source": [],
      "metadata": {
        "id": "G9HyaVLhqoF-"
      },
      "execution_count": null,
      "outputs": []
    },
    {
      "cell_type": "code",
      "source": [],
      "metadata": {
        "id": "a43eMy4cqoJj"
      },
      "execution_count": null,
      "outputs": []
    }
  ]
}